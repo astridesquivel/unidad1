{
  "nbformat": 4,
  "nbformat_minor": 0,
  "metadata": {
    "colab": {
      "provenance": [],
      "authorship_tag": "ABX9TyM1wQHKMftjwtHLggcOTIAP",
      "include_colab_link": true
    },
    "kernelspec": {
      "name": "python3",
      "display_name": "Python 3"
    },
    "language_info": {
      "name": "python"
    }
  },
  "cells": [
    {
      "cell_type": "markdown",
      "metadata": {
        "id": "view-in-github",
        "colab_type": "text"
      },
      "source": [
        "<a href=\"https://colab.research.google.com/github/astridesquivel/unidad1/blob/main/practica7.ipynb\" target=\"_parent\"><img src=\"https://colab.research.google.com/assets/colab-badge.svg\" alt=\"Open In Colab\"/></a>"
      ]
    },
    {
      "cell_type": "code",
      "execution_count": null,
      "metadata": {
        "id": "OBFkdhBGFvPz"
      },
      "outputs": [],
      "source": []
    },
    {
      "cell_type": "markdown",
      "source": [
        "Astrid Elena Esquivel Garrido - practica7 - 25 de septiembre de 2025.\n",
        "-------------------------------\n",
        "Slicing NumPy\n",
        "---------------\n",
        "Utilice STEP para determinar el paso del corte:\n",
        "Ejemplo: ([1,2,3,4,5,6,7])- devuelve todos los elementos del indice 1 al indice 5"
      ],
      "metadata": {
        "id": "ZREpzDo8GJoG"
      }
    },
    {
      "cell_type": "code",
      "source": [
        "import numpy as np\n",
        "\n",
        "arreglo = np.array([1,2,3,4,5,6,7])\n",
        "print(arreglo[1:5:2])"
      ],
      "metadata": {
        "colab": {
          "base_uri": "https://localhost:8080/"
        },
        "id": "xLzuG8evIJ2N",
        "outputId": "4d8cc1ab-1a00-4e01-8e32-7457e351af9e"
      },
      "execution_count": 1,
      "outputs": [
        {
          "output_type": "stream",
          "name": "stdout",
          "text": [
            "[2 4]\n"
          ]
        }
      ]
    },
    {
      "cell_type": "markdown",
      "source": [
        "Ejemplo 2: ([1,2,3,4,5,6,7])\n",
        "Devuelve los elementos de la matriz\n",
        "------------------\n"
      ],
      "metadata": {
        "id": "f4kQDpzwIvtd"
      }
    },
    {
      "cell_type": "code",
      "source": [
        "import numpy as np\n",
        "\n",
        "arreglo = np.array([1,2,3,4,5,6,7])\n",
        "print(arreglo[::2])"
      ],
      "metadata": {
        "colab": {
          "base_uri": "https://localhost:8080/"
        },
        "id": "v2SYMdwXI_ut",
        "outputId": "1e8b9515-b3fa-4957-edad-270e30223600"
      },
      "execution_count": 2,
      "outputs": [
        {
          "output_type": "stream",
          "name": "stdout",
          "text": [
            "[1 3 5 7]\n"
          ]
        }
      ]
    },
    {
      "cell_type": "markdown",
      "source": [
        "Slice de matrices 2D\n",
        "-----------------------\n",
        "Ejemplo3: ([[1,2,3,4,5],[6,7,8,9,10]])\n",
        "Del segundo elemento,corte del indice 1 al indice 4"
      ],
      "metadata": {
        "id": "QWIawiAcJu3V"
      }
    },
    {
      "cell_type": "code",
      "source": [
        "import numpy as np\n",
        "\n",
        "arreglo = np.array([[1,2,3,4,5],[6,7,8,9,10]])\n",
        "print(arreglo[1, 1:4])"
      ],
      "metadata": {
        "colab": {
          "base_uri": "https://localhost:8080/"
        },
        "id": "Gdbh2V-XLfDl",
        "outputId": "09df3ae6-c4bb-43d0-e1ad-c1031de21dd2"
      },
      "execution_count": 3,
      "outputs": [
        {
          "output_type": "stream",
          "name": "stdout",
          "text": [
            "[7 8 9]\n"
          ]
        }
      ]
    },
    {
      "cell_type": "markdown",
      "source": [
        "Ejemplo 4: ([[1,2,3,4,5],[6,7,8,9,10]])\n",
        "De ambos elementos,devuelve el indice 2\n",
        "-----------------------"
      ],
      "metadata": {
        "id": "jFBEdDtKNIG9"
      }
    },
    {
      "cell_type": "code",
      "source": [
        "import numpy as np\n",
        "\n",
        "arreglo = np.array([[1,2,3,4,5],[6,7,8,9,10]])\n",
        "print(arreglo[0:2, 2])"
      ],
      "metadata": {
        "colab": {
          "base_uri": "https://localhost:8080/"
        },
        "id": "j6Q1e-9iNew1",
        "outputId": "07494735-1bfb-42df-82b6-40926f6e5b40"
      },
      "execution_count": 4,
      "outputs": [
        {
          "output_type": "stream",
          "name": "stdout",
          "text": [
            "[3 8]\n"
          ]
        }
      ]
    },
    {
      "cell_type": "markdown",
      "source": [
        "Ejemplo 5: ([[1,2,3,4,5],[6,7,8,9,10]])\n",
        "De ambos elementos,corta el indice 1 al indice 4.\n",
        "----------------------"
      ],
      "metadata": {
        "id": "c2nsgGp3OKhW"
      }
    },
    {
      "cell_type": "code",
      "source": [
        "import numpy as np\n",
        "arreglo = np.array([[1,2,3,4,5],[6,7,8,9,10]])\n",
        "print(arreglo[0:2, 1:4])"
      ],
      "metadata": {
        "colab": {
          "base_uri": "https://localhost:8080/"
        },
        "id": "WuRQl1IhObc9",
        "outputId": "3bd33254-3a3b-43d5-bb38-48be283d15fc"
      },
      "execution_count": 5,
      "outputs": [
        {
          "output_type": "stream",
          "name": "stdout",
          "text": [
            "[[2 3 4]\n",
            " [7 8 9]]\n"
          ]
        }
      ]
    },
    {
      "cell_type": "markdown",
      "source": [
        "Ejercicio 1 -Autonomo\n",
        "Del siguiente arreglo,¿cual es el resultado?\n",
        "([1,2,3,4,5,6,7])\n",
        "corta del 1er elemento al 3er elemento al 6to elemento con paso 2"
      ],
      "metadata": {
        "id": "NVEYiQS-PMsO"
      }
    },
    {
      "cell_type": "code",
      "source": [
        "import numpy as np\n",
        "arreglo = np.array([1,2,3,4,5,6,7])\n",
        "print(arreglo[0:6:2])"
      ],
      "metadata": {
        "colab": {
          "base_uri": "https://localhost:8080/"
        },
        "id": "qBcqbfBFPz1u",
        "outputId": "5f723a12-35b2-4f29-c4ba-90647d59aafc"
      },
      "execution_count": 12,
      "outputs": [
        {
          "output_type": "stream",
          "name": "stdout",
          "text": [
            "[1 3 5]\n"
          ]
        }
      ]
    }
  ]
}