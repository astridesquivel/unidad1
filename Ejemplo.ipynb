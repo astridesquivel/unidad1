{
  "nbformat": 4,
  "nbformat_minor": 0,
  "metadata": {
    "colab": {
      "provenance": [],
      "authorship_tag": "ABX9TyMDlPDXf3REbtCcFFwttpZG",
      "include_colab_link": true
    },
    "kernelspec": {
      "name": "python3",
      "display_name": "Python 3"
    },
    "language_info": {
      "name": "python"
    }
  },
  "cells": [
    {
      "cell_type": "markdown",
      "metadata": {
        "id": "view-in-github",
        "colab_type": "text"
      },
      "source": [
        "<a href=\"https://colab.research.google.com/github/astridesquivel/unidad1/blob/main/Ejemplo.ipynb\" target=\"_parent\"><img src=\"https://colab.research.google.com/assets/colab-badge.svg\" alt=\"Open In Colab\"/></a>"
      ]
    },
    {
      "cell_type": "code",
      "execution_count": null,
      "metadata": {
        "id": "RFsj22QOwhL_"
      },
      "outputs": [],
      "source": []
    },
    {
      "cell_type": "markdown",
      "source": [
        "Prueba de colab Python"
      ],
      "metadata": {
        "id": "jkhQUMGXxe4e"
      }
    },
    {
      "cell_type": "markdown",
      "source": [
        "Variables"
      ],
      "metadata": {
        "id": "EKrGFwVTySbd"
      }
    },
    {
      "cell_type": "code",
      "source": [
        "#variables en python\n",
        "nombre = \"astrid\"\n",
        "paterno = \"esquivel\"\n",
        "materno = \"garrido\"\n",
        "edad = 17\n",
        "estatura = 1.59\n",
        "\n",
        "print(nombre,paterno,materno,edad,estatura)"
      ],
      "metadata": {
        "colab": {
          "base_uri": "https://localhost:8080/"
        },
        "id": "FR5FGsxTyV5N",
        "outputId": "9fb8fea9-a0a9-4941-c692-2ee374b346f5"
      },
      "execution_count": 2,
      "outputs": [
        {
          "output_type": "stream",
          "name": "stdout",
          "text": [
            "astrid esquivel garrido 17 1.59\n"
          ]
        }
      ]
    },
    {
      "cell_type": "markdown",
      "source": [
        "solicitar 2 numeros al usuario y sumarlos"
      ],
      "metadata": {
        "id": "Iz0y7tZtzd9d"
      }
    },
    {
      "cell_type": "code",
      "source": [
        "numero1 = int(input(\"ingresa el primer numero\"))\n",
        "numero2 = int(input(\"ingresa el segundo numero\"))\n",
        "suma = numero1 + numero2\n",
        "print(\"suma = \" , suma)"
      ],
      "metadata": {
        "colab": {
          "base_uri": "https://localhost:8080/"
        },
        "id": "BKV1cu6Hzpmc",
        "outputId": "bb0addf8-38e4-40f4-ea05-fa36b9359647"
      },
      "execution_count": 3,
      "outputs": [
        {
          "output_type": "stream",
          "name": "stdout",
          "text": [
            "ingresa el primer numero12\n",
            "ingresa el segundo numero3\n",
            "suma =  15\n"
          ]
        }
      ]
    },
    {
      "cell_type": "code",
      "source": [
        "print(\"hola mundo\")"
      ],
      "metadata": {
        "colab": {
          "base_uri": "https://localhost:8080/"
        },
        "id": "u3R09NpTxxnd",
        "outputId": "2e08ae81-8f09-4bfb-8b7a-2c8a20ff5149"
      },
      "execution_count": 1,
      "outputs": [
        {
          "output_type": "stream",
          "name": "stdout",
          "text": [
            "hola mundo\n"
          ]
        }
      ]
    }
  ]
}