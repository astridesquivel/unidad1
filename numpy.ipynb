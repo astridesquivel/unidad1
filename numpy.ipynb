{
  "nbformat": 4,
  "nbformat_minor": 0,
  "metadata": {
    "colab": {
      "provenance": [],
      "authorship_tag": "ABX9TyPQQmQ9uWQzOPx/nX+mm2lL",
      "include_colab_link": true
    },
    "kernelspec": {
      "name": "python3",
      "display_name": "Python 3"
    },
    "language_info": {
      "name": "python"
    }
  },
  "cells": [
    {
      "cell_type": "markdown",
      "metadata": {
        "id": "view-in-github",
        "colab_type": "text"
      },
      "source": [
        "<a href=\"https://colab.research.google.com/github/astridesquivel/unidad1/blob/main/numpy.ipynb\" target=\"_parent\"><img src=\"https://colab.research.google.com/assets/colab-badge.svg\" alt=\"Open In Colab\"/></a>"
      ]
    },
    {
      "cell_type": "code",
      "execution_count": null,
      "metadata": {
        "id": "6k3hXo05iQ_E"
      },
      "outputs": [],
      "source": []
    },
    {
      "cell_type": "markdown",
      "source": [
        "NumPy es una libreria de python\n",
        "NumPy se utiliza para trabajar con\n",
        "matrices o arreglos\n",
        "NumPy es la abreviatura de \"Python numnerico\"\n",
        "Tambien tiene funciones para trabajar en el dominio del algebra lineal,la transformada y las matrices\n",
        "En python tenemos listas que sirven como matrices,pero son lentas de procesar.\n",
        "NumPy tiene como objetivo proporcionar un objeto de matriz que sea 50 veces mas rapido que las listas tradicionales.\n",
        "\n"
      ],
      "metadata": {
        "id": "b9Pja-gRi1CG"
      }
    },
    {
      "cell_type": "code",
      "source": [
        "#Primero tenemos que importar la libreria\n",
        "import numpy\n",
        "\n",
        "arreglo = numpy.array([1,2,3,4,5])\n",
        "print(arreglo)"
      ],
      "metadata": {
        "colab": {
          "base_uri": "https://localhost:8080/"
        },
        "id": "dZU9IksclHAM",
        "outputId": "3c3f640b-2c5f-4d00-86d9-239a6b6b0cab"
      },
      "execution_count": 1,
      "outputs": [
        {
          "output_type": "stream",
          "name": "stdout",
          "text": [
            "[1 2 3 4 5]\n"
          ]
        }
      ]
    },
    {
      "cell_type": "markdown",
      "source": [
        "NumPy como np\n",
        "NumPy generalmente se importa bajo el alias np.En python los alias son un nombre alternativo para referirse a la misma coasa"
      ],
      "metadata": {
        "id": "QJ7j4b5HmLKN"
      }
    },
    {
      "cell_type": "code",
      "source": [
        "import numpy as np\n",
        "\n",
        "arreglo = np.array([6,7,8,9,10])\n",
        "print(arreglo)"
      ],
      "metadata": {
        "colab": {
          "base_uri": "https://localhost:8080/"
        },
        "id": "6dufZHWTmmcc",
        "outputId": "8ad6b10a-ec3d-4c4c-c986-be2636ef232b"
      },
      "execution_count": 2,
      "outputs": [
        {
          "output_type": "stream",
          "name": "stdout",
          "text": [
            "[ 6  7  8  9 10]\n"
          ]
        }
      ]
    },
    {
      "cell_type": "markdown",
      "source": [
        "comprobando la version de NumPy\n",
        "La cadena de la version se almacena en  el atributo __version__"
      ],
      "metadata": {
        "id": "yE94T0W1na5E"
      }
    },
    {
      "cell_type": "code",
      "source": [
        "import numpy as np\n",
        "\n",
        "print(np.__version__)"
      ],
      "metadata": {
        "colab": {
          "base_uri": "https://localhost:8080/"
        },
        "id": "QQmZ37Aen0Ll",
        "outputId": "f362f17b-abe4-401c-d3eb-d9b81bd0b425"
      },
      "execution_count": 3,
      "outputs": [
        {
          "output_type": "stream",
          "name": "stdout",
          "text": [
            "2.0.2\n"
          ]
        }
      ]
    },
    {
      "cell_type": "markdown",
      "source": [
        "NumPy creando matrices\n",
        "crear un objeto ndarray de NumPy\n",
        "NumPy se utiliza para trabjar con matrices.El objeto de matriz se llama ndarray.\n",
        "Podemos crear un NumPy ndarray utilizando la funcion array()"
      ],
      "metadata": {
        "id": "f-wsnyi5oOo0"
      }
    },
    {
      "cell_type": "code",
      "source": [
        "import numpy as np\n",
        "\n",
        "arreglo = np.array([\"raul\",\"ana\",\"kimberly\",\"yazmin\"])\n",
        "print(arreglo)\n",
        "print(type(arreglo))"
      ],
      "metadata": {
        "colab": {
          "base_uri": "https://localhost:8080/"
        },
        "id": "jTKuPdZupJVF",
        "outputId": "7cf18cea-b4c5-4cc3-ddcc-a185055aef89"
      },
      "execution_count": 4,
      "outputs": [
        {
          "output_type": "stream",
          "name": "stdout",
          "text": [
            "['raul' 'ana' 'kimberly' 'yazmin']\n",
            "<class 'numpy.ndarray'>\n"
          ]
        }
      ]
    },
    {
      "cell_type": "markdown",
      "source": [
        "Dimensiones en matrices\n",
        "Una dimension en matrices es un nivel de profundidad de matriz (matrices unidadas)\n",
        "Una matriz anidada contiene matrices como elementos\n",
        "Matrices 0-D.Son elementos de una matriz.Cada valor de una matriz es una matriz 0-D.Ejemplo:crea una matriz 0-D con un valor de 42"
      ],
      "metadata": {
        "id": "6TY5-oxXqF68"
      }
    },
    {
      "cell_type": "code",
      "source": [
        "import numpy as np\n",
        "\n",
        "arreglo = np.array(42)\n",
        "\n",
        "print(arreglo)"
      ],
      "metadata": {
        "colab": {
          "base_uri": "https://localhost:8080/"
        },
        "id": "AYElGHAPrDjc",
        "outputId": "1772418f-c52e-4e0e-e378-4b1ffc24e554"
      },
      "execution_count": 5,
      "outputs": [
        {
          "output_type": "stream",
          "name": "stdout",
          "text": [
            "42\n"
          ]
        }
      ]
    },
    {
      "cell_type": "markdown",
      "source": [
        "Matrices 1-D\n",
        "Una matriz que tiene matrices 0-D como elementos se denomina matriz unidimencional o 1-D.\n",
        "Estas son las matrices mas comunes y basicas.\n",
        "Ejemplo: Crea una matriz de 1-D que tenga los valores 1,2,3,4,5"
      ],
      "metadata": {
        "id": "huB8ioGDsazk"
      }
    },
    {
      "cell_type": "code",
      "source": [
        "import numpy as np\n",
        "\n",
        "arreglo = np.array([1,2,3,4,5])\n",
        "\n",
        "print(arreglo)"
      ],
      "metadata": {
        "colab": {
          "base_uri": "https://localhost:8080/"
        },
        "id": "a2jctAdjtTet",
        "outputId": "b3277482-9543-4517-e84b-e5d0a71ab79b"
      },
      "execution_count": 6,
      "outputs": [
        {
          "output_type": "stream",
          "name": "stdout",
          "text": [
            "[1 2 3 4 5]\n"
          ]
        }
      ]
    },
    {
      "cell_type": "markdown",
      "source": [
        "Matrices 2D\n",
        "Una matriz que tiene matrices 1-D como elementos se denomina matriz 2-D.\n",
        "A menudo se utilizan para representar matrices de segundo orden.NumPy tiene un submodulo completo dedicado a operaciones con matrices llamado numpy.mat.\n",
        "Ejemplo:crea una matriz 2D que con tenga dos matrices con los valores 123 y 456."
      ],
      "metadata": {
        "id": "wDul0W2Etztc"
      }
    },
    {
      "cell_type": "code",
      "source": [
        "import numpy as np\n",
        "\n",
        "arreglo = np.array([[1,2,3],[4,5,6]])\n",
        "\n",
        "print(arreglo)"
      ],
      "metadata": {
        "colab": {
          "base_uri": "https://localhost:8080/"
        },
        "id": "nVbwtVoeup3M",
        "outputId": "21c9ba26-c486-4df3-9c15-e49dd3314919"
      },
      "execution_count": 8,
      "outputs": [
        {
          "output_type": "stream",
          "name": "stdout",
          "text": [
            "[[1 2 3]\n",
            " [4 5 6]]\n"
          ]
        }
      ]
    },
    {
      "cell_type": "markdown",
      "source": [
        "Matrices 3D\n",
        "Una matriz que tiene matrices 2D se denomina matriz 3D.\n",
        "Estas matrices se utilizan para representar una matriz de tercer orden.\n",
        "Ejemplo:Crea una matriz 3D con dos matrices bidimencionales, ambas cinteniendo dos matrices con los valores 1,2,3 y 4,5,6."
      ],
      "metadata": {
        "id": "1P-2DWLuvVtU"
      }
    },
    {
      "cell_type": "code",
      "source": [
        "import numpy as np\n",
        "\n",
        "arreglo = np.array([[[1,2,3],[4,5,6]],[[1,2,3],[4,5,6]]])\n",
        "\n",
        "print(arreglo)"
      ],
      "metadata": {
        "colab": {
          "base_uri": "https://localhost:8080/"
        },
        "id": "Oi1niIG7wGH0",
        "outputId": "b8c47966-bf12-4ae2-9567-ee4583f22aea"
      },
      "execution_count": 10,
      "outputs": [
        {
          "output_type": "stream",
          "name": "stdout",
          "text": [
            "[[[1 2 3]\n",
            "  [4 5 6]]\n",
            "\n",
            " [[1 2 3]\n",
            "  [4 5 6]]]\n"
          ]
        }
      ]
    }
  ]
}