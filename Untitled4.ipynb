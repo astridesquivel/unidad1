{
  "nbformat": 4,
  "nbformat_minor": 0,
  "metadata": {
    "colab": {
      "provenance": [],
      "authorship_tag": "ABX9TyPkpP6xAD6Ccw2QHG91d2to",
      "include_colab_link": true
    },
    "kernelspec": {
      "name": "python3",
      "display_name": "Python 3"
    },
    "language_info": {
      "name": "python"
    }
  },
  "cells": [
    {
      "cell_type": "markdown",
      "metadata": {
        "id": "view-in-github",
        "colab_type": "text"
      },
      "source": [
        "<a href=\"https://colab.research.google.com/github/astridesquivel/unidad1/blob/main/Untitled4.ipynb\" target=\"_parent\"><img src=\"https://colab.research.google.com/assets/colab-badge.svg\" alt=\"Open In Colab\"/></a>"
      ]
    },
    {
      "cell_type": "code",
      "execution_count": null,
      "metadata": {
        "id": "-gvksQov0oMX"
      },
      "outputs": [],
      "source": []
    },
    {
      "cell_type": "markdown",
      "source": [
        "sacar la media la mediana y moda"
      ],
      "metadata": {
        "id": "kwpwCloW0psR"
      }
    },
    {
      "cell_type": "code",
      "source": [
        "import statistics as stats\n",
        "\n",
        "datos = [23,45,56,12,67,34,55,21]\n",
        "\n",
        "media = stats.mean(datos)\n",
        "\n",
        "mediana = stats.median(datos)\n",
        "\n",
        "modas = stats.multimode(datos)\n",
        "\n",
        "if len(modas) == len(datos):\n",
        "  modas = None\n",
        "\n",
        "print(\"media:\",media)\n",
        "print(\"mediana:\",mediana)\n",
        "print(\"moda:\",modas)"
      ],
      "metadata": {
        "colab": {
          "base_uri": "https://localhost:8080/"
        },
        "id": "0FJfbty308G_",
        "outputId": "9ee2db90-05cc-4c02-e550-cee9a0404820"
      },
      "execution_count": 2,
      "outputs": [
        {
          "output_type": "stream",
          "name": "stdout",
          "text": [
            "media: 39.125\n",
            "mediana: 39.5\n",
            "moda: None\n"
          ]
        }
      ]
    },
    {
      "cell_type": "markdown",
      "source": [
        " sacar la media,mediana,moda\n",
        " [10, 20, 30, 40, 20, 50, 20],\n"
      ],
      "metadata": {
        "id": "W_ELgIjY3h8f"
      }
    },
    {
      "cell_type": "code",
      "source": [
        "import statistics as stats\n",
        "\n",
        "datos = [10,20,30,40,20,50,20]\n",
        "\n",
        "media = stats.mean(datos)\n",
        "\n",
        "mediana = stats.median(datos)\n",
        "\n",
        "modas = stats.multimode(datos)\n",
        "\n",
        "print(\"media:\",media)\n",
        "print(\"mediana:\",mediana)\n",
        "print(\"moda(s):\",modas)"
      ],
      "metadata": {
        "colab": {
          "base_uri": "https://localhost:8080/"
        },
        "id": "5n2EBVuH3t-W",
        "outputId": "0201bd1f-7a2e-4f77-b13e-e75050dbd292"
      },
      "execution_count": 3,
      "outputs": [
        {
          "output_type": "stream",
          "name": "stdout",
          "text": [
            "media: 27.142857142857142\n",
            "mediana: 20\n",
            "moda(s): [20]\n"
          ]
        }
      ]
    },
    {
      "cell_type": "markdown",
      "source": [
        "sacar la media,mediana,moda [10, 20, 30, 40, 50]\n"
      ],
      "metadata": {
        "id": "OiM6Yf7w5TX-"
      }
    },
    {
      "cell_type": "code",
      "source": [
        "import statistics as stats\n",
        "datos = [10,20,30,40,50]\n",
        "\n",
        "media = stats.mean(datos)\n",
        "\n",
        "mediana = stats.median(datos)\n",
        "\n",
        "modas = stats.multimode(datos)\n",
        "\n",
        "if len(modas) == len(datos):\n",
        "  modas = None\n",
        "\n",
        "print(\"media:\",media)\n",
        "print(\"mediana:\",mediana)\n",
        "print(\"moda:\",modas)"
      ],
      "metadata": {
        "colab": {
          "base_uri": "https://localhost:8080/"
        },
        "id": "apSoSuwt5abt",
        "outputId": "f83a8619-d90f-44eb-d666-a64a9e685490"
      },
      "execution_count": 7,
      "outputs": [
        {
          "output_type": "stream",
          "name": "stdout",
          "text": [
            "media: 30\n",
            "mediana: 30\n",
            "moda: None\n"
          ]
        }
      ]
    }
  ]
}