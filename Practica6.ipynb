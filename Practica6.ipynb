{
  "nbformat": 4,
  "nbformat_minor": 0,
  "metadata": {
    "colab": {
      "provenance": [],
      "authorship_tag": "ABX9TyN8tLbrvGzIsES9ynJJQVEw",
      "include_colab_link": true
    },
    "kernelspec": {
      "name": "python3",
      "display_name": "Python 3"
    },
    "language_info": {
      "name": "python"
    }
  },
  "cells": [
    {
      "cell_type": "markdown",
      "metadata": {
        "id": "view-in-github",
        "colab_type": "text"
      },
      "source": [
        "<a href=\"https://colab.research.google.com/github/astridesquivel/unidad1/blob/main/Practica6.ipynb\" target=\"_parent\"><img src=\"https://colab.research.google.com/assets/colab-badge.svg\" alt=\"Open In Colab\"/></a>"
      ]
    },
    {
      "cell_type": "code",
      "execution_count": null,
      "metadata": {
        "id": "VfdQfAyICzkA"
      },
      "outputs": [],
      "source": []
    },
    {
      "cell_type": "markdown",
      "source": [
        "Astrid Elena Esquivel Garrido - 24 de septiembre de 2025\n",
        "practica 6 - cortas arreglos NumPy\n",
        "-----------------------------------\n",
        "Slice en python significa tomar elementos de un indice determinado a otro determinado indice.\n",
        "\n",
        "Pasamos slice en lugar del indice de esta manera: [start:end]\n",
        "Sino pasamos el inicio se considera 0\n",
        "Sino pasamos el final,su longitud es considerada una matriz de una dimension\n",
        "----------------------------------\n",
        "Ejemplos: ([1,2,3,4,5,6,7])\n",
        "Cortar los elementos del indice 1 al indice 5\n",
        "-------------\n",
        "\n"
      ],
      "metadata": {
        "id": "bOA6K0Z9C0-f"
      }
    },
    {
      "cell_type": "code",
      "source": [
        "import numpy as np\n",
        "\n",
        "arreglo = np.array([1,2,3,4,5,6,7])\n",
        "\n",
        "print(arreglo[1:5])"
      ],
      "metadata": {
        "colab": {
          "base_uri": "https://localhost:8080/"
        },
        "id": "QrpqgOaTKcKu",
        "outputId": "63a05b5b-cb3c-4023-bfa1-cc8ffce81b69"
      },
      "execution_count": 1,
      "outputs": [
        {
          "output_type": "stream",
          "name": "stdout",
          "text": [
            "[2 3 4 5]\n"
          ]
        }
      ]
    },
    {
      "cell_type": "markdown",
      "source": [
        "Ejemplo 2:\n",
        "([1,2,3,4,5,6,7])\n",
        "Cortar del indice 4 hasta el final de la matriz\n",
        "---------------------------------"
      ],
      "metadata": {
        "id": "NKEv0DzvLKlm"
      }
    },
    {
      "cell_type": "code",
      "source": [
        "import numpy as np\n",
        "\n",
        "arreglo = np.array([1,2,3,4,5,6,7])\n",
        "\n",
        "print(arreglo[4:])"
      ],
      "metadata": {
        "colab": {
          "base_uri": "https://localhost:8080/"
        },
        "id": "SYRU8H6qLcdW",
        "outputId": "c84c98ae-7e86-45a5-f65e-169d1b72bdb7"
      },
      "execution_count": 2,
      "outputs": [
        {
          "output_type": "stream",
          "name": "stdout",
          "text": [
            "[5 6 7]\n"
          ]
        }
      ]
    },
    {
      "cell_type": "markdown",
      "source": [
        "Ejemplo 3:\n",
        "([1,2,3,4,5,6,7])\n",
        "Cortar elementos desde el principio hasta el indice 5\n",
        "-------------------------------"
      ],
      "metadata": {
        "id": "MJXSvqX5MH83"
      }
    },
    {
      "cell_type": "code",
      "source": [
        "import numpy as np\n",
        "\n",
        "arreglo = np.array([1,2,3,4,5,6,7])\n",
        "\n",
        "print(arreglo[:5])"
      ],
      "metadata": {
        "colab": {
          "base_uri": "https://localhost:8080/"
        },
        "id": "eUtUgExoMW-m",
        "outputId": "000b6e19-48d9-44a7-da88-61138a381238"
      },
      "execution_count": 4,
      "outputs": [
        {
          "output_type": "stream",
          "name": "stdout",
          "text": [
            "[1 2 3 4 5]\n"
          ]
        }
      ]
    },
    {
      "cell_type": "markdown",
      "source": [
        "Ejemplo 4:\n",
        "([1,2,3,4,5,6,7])\n",
        "Corte negativo.Utilizamos el operador \"menos\" para hacer referencia a un indice desde el final\n",
        "----------------\n",
        "Cortar del indice 3 desde el final al indice 1 desde el final"
      ],
      "metadata": {
        "id": "H3Xmd9MDM2nH"
      }
    },
    {
      "cell_type": "code",
      "source": [
        "import numpy as np\n",
        "\n",
        "arreglo = np.array([1,2,3,4,5,6,7])\n",
        "print(arreglo[-3: -1])"
      ],
      "metadata": {
        "colab": {
          "base_uri": "https://localhost:8080/"
        },
        "id": "SqmUiLumNca2",
        "outputId": "dbca5226-997a-4d6f-8be0-146a83fdbc08"
      },
      "execution_count": 5,
      "outputs": [
        {
          "output_type": "stream",
          "name": "stdout",
          "text": [
            "[5 6]\n"
          ]
        }
      ]
    }
  ]
}