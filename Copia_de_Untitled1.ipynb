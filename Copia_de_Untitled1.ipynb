{
  "nbformat": 4,
  "nbformat_minor": 0,
  "metadata": {
    "colab": {
      "provenance": [],
      "authorship_tag": "ABX9TyPC4s8V/7OFZFYsnHcLyH+F",
      "include_colab_link": true
    },
    "kernelspec": {
      "name": "python3",
      "display_name": "Python 3"
    },
    "language_info": {
      "name": "python"
    }
  },
  "cells": [
    {
      "cell_type": "markdown",
      "metadata": {
        "id": "view-in-github",
        "colab_type": "text"
      },
      "source": [
        "<a href=\"https://colab.research.google.com/github/astridesquivel/unidad1/blob/main/Copia_de_Untitled1.ipynb\" target=\"_parent\"><img src=\"https://colab.research.google.com/assets/colab-badge.svg\" alt=\"Open In Colab\"/></a>"
      ]
    },
    {
      "cell_type": "markdown",
      "source": [],
      "metadata": {
        "id": "VCdR1aj5DBgA"
      }
    },
    {
      "cell_type": "code",
      "execution_count": null,
      "metadata": {
        "id": "FgZtb38PDAkY"
      },
      "outputs": [],
      "source": []
    },
    {
      "cell_type": "markdown",
      "source": [
        "De la siguiente listas 1,2,3,4,5 y 6,7,8,9,Accede al elemento de la 2a fila,5a columna"
      ],
      "metadata": {
        "id": "e61s2YN4DgKI"
      }
    },
    {
      "cell_type": "code",
      "source": [
        "import numpy  as np\n",
        "\n",
        "arreglo = np.array([[1, 2, 3, 4, 5],[6, 7, 8, 9, 10]])\n",
        "\n",
        "print(arreglo[1,4])"
      ],
      "metadata": {
        "colab": {
          "base_uri": "https://localhost:8080/"
        },
        "id": "J5LdFzIgDzJn",
        "outputId": "c0539e1b-daa4-4110-afa2-20f1042e7996"
      },
      "execution_count": null,
      "outputs": [
        {
          "output_type": "stream",
          "name": "stdout",
          "text": [
            "10\n"
          ]
        }
      ]
    },
    {
      "cell_type": "markdown",
      "source": [
        "2. De las siguientes listas 1, 2, 3 -  4, 5, 6 - 7, 8, 9 y 10, 11, 12, Acceda al tercer elemento de la segunda matriz de la primera matriz"
      ],
      "metadata": {
        "id": "enQCrOf3G9jP"
      }
    },
    {
      "cell_type": "code",
      "source": [
        "import numpy as np\n",
        "\n",
        "arreglo = np.array([[[1, 2, 3], [4, 5, 6], [7, 8, 9], [10, 11, 12]]])\n",
        "\n",
        "tercer_elemento = arreglo[0,1, 2]\n",
        "\n",
        "print(tercer_elemento)"
      ],
      "metadata": {
        "colab": {
          "base_uri": "https://localhost:8080/"
        },
        "id": "sra21487HNnv",
        "outputId": "11f0fded-7ebf-4798-c606-99870f1b839c"
      },
      "execution_count": null,
      "outputs": [
        {
          "output_type": "stream",
          "name": "stdout",
          "text": [
            "6\n"
          ]
        }
      ]
    }
  ]
}