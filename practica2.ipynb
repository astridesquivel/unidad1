{
  "nbformat": 4,
  "nbformat_minor": 0,
  "metadata": {
    "colab": {
      "provenance": [],
      "authorship_tag": "ABX9TyNXCb8+SV9PM6rNRrwEYLPa",
      "include_colab_link": true
    },
    "kernelspec": {
      "name": "python3",
      "display_name": "Python 3"
    },
    "language_info": {
      "name": "python"
    }
  },
  "cells": [
    {
      "cell_type": "markdown",
      "metadata": {
        "id": "view-in-github",
        "colab_type": "text"
      },
      "source": [
        "<a href=\"https://colab.research.google.com/github/astridesquivel/unidad1/blob/main/practica2.ipynb\" target=\"_parent\"><img src=\"https://colab.research.google.com/assets/colab-badge.svg\" alt=\"Open In Colab\"/></a>"
      ]
    },
    {
      "cell_type": "code",
      "execution_count": null,
      "metadata": {
        "id": "IduBq3HMquzV"
      },
      "outputs": [],
      "source": []
    },
    {
      "cell_type": "markdown",
      "source": [
        "Practica 2 - NumPy\n",
        "astrid elena esquivel garrido 5f\n",
        "Fecha 09 de septiembre de 2025\n",
        "------------------------------\n",
        "Como verificar el numero de dimensiones.\n",
        "NumPy proporciona el atributo ndim que devuelve un numero entero que nos dice cuantas dimensiones tiene una matriz\n",
        "-----------------------\n",
        "Ejemplo:Comprueba de cuantas dimensiones son las siguientes matrices.\n",
        "----------------------------"
      ],
      "metadata": {
        "id": "psYM71mQrBlo"
      }
    },
    {
      "cell_type": "code",
      "source": [
        "import numpy as np\n",
        "\n",
        "arregloA = np.array(42)\n",
        "arregloB = np.array([1,2,3,4,5])\n",
        "arregloC = np.array([[1,2,3],[4,5,6]])\n",
        "arregloD = np.array([[[1,2,3],[4,5,6]],[[1,2,3],[4,5,6]]])\n",
        "\n",
        "print(arregloA.ndim)\n",
        "print(arregloB.ndim)\n",
        "print(arregloC.ndim)\n",
        "print(arregloD.ndim)"
      ],
      "metadata": {
        "colab": {
          "base_uri": "https://localhost:8080/"
        },
        "id": "dP7ybTOmsemg",
        "outputId": "6d7ff5f0-5369-4086-9c3f-9b0a4cacc55f"
      },
      "execution_count": 1,
      "outputs": [
        {
          "output_type": "stream",
          "name": "stdout",
          "text": [
            "0\n",
            "1\n",
            "2\n",
            "3\n"
          ]
        }
      ]
    },
    {
      "cell_type": "markdown",
      "source": [
        "Matrices de dimensiones superiores\n",
        "Una matriz puede tener cualquier numero de dimensiones.Cuando se crea la matriz, puede definir el numero de dimensiones utilizando el argumento ndmin.\n",
        "Ejemplo:Crea una matriz con 5 dimensiones y verifica que tenga las 5 dimensiones.\n",
        "-----------------------"
      ],
      "metadata": {
        "id": "CZ0yXCSGuzTI"
      }
    },
    {
      "cell_type": "code",
      "source": [
        "import numpy as np\n",
        "\n",
        "arreglo = np.array([1,2,3,4,5],ndmin = 5)\n",
        "\n",
        "print(arreglo)\n",
        "\n",
        "print(\"numero de dimensiones:\" , arreglo.ndim)"
      ],
      "metadata": {
        "colab": {
          "base_uri": "https://localhost:8080/"
        },
        "id": "BYXULx4CwGZY",
        "outputId": "c3b87552-8e35-4981-c9b3-6c39e361612f"
      },
      "execution_count": 6,
      "outputs": [
        {
          "output_type": "stream",
          "name": "stdout",
          "text": [
            "[[[[[1 2 3 4 5]]]]]\n",
            "numero de dimensiones: 5\n"
          ]
        }
      ]
    },
    {
      "cell_type": "markdown",
      "source": [
        "Ejercicio:\n",
        "Considerando la siguiente matriz\n",
        "\n",
        "arreglo = np.array([[1,2,3],[4,5,6]])\n",
        "\n",
        "¿Cuantas dimensiones tiene?\n",
        "Respuestas = 2"
      ],
      "metadata": {
        "id": "3Xk37Nslyc3H"
      }
    },
    {
      "cell_type": "markdown",
      "source": [
        "NumPy Indexacion de matrices\n",
        "Acceder a elementos de una matriz\n",
        "La indexacion de matrices es lo mismo que acceder a un elemento de una matriz.Puede acceder a un elemento de la matriz haciendo referencia a su numero indice.Los indices en las matrices NumPy comienza en 0,lo que significa que el primer elemento tiene el indice 0 y el segundo tiene el indice1,etc.\n",
        "Ejemplo: obtenga el primer elemento de la siguiente matriz.\n",
        "----------------------------------------------"
      ],
      "metadata": {
        "id": "DbFlCIagzSDv"
      }
    },
    {
      "cell_type": "code",
      "source": [
        "import numpy as np\n",
        "\n",
        "arreglo = np.array([1,2,3,4])\n",
        "\n",
        "print(arreglo[0])"
      ],
      "metadata": {
        "colab": {
          "base_uri": "https://localhost:8080/"
        },
        "id": "ZbgVzJOd09-Q",
        "outputId": "b9ad7425-62a6-495e-e788-cc4a38519ba5"
      },
      "execution_count": 7,
      "outputs": [
        {
          "output_type": "stream",
          "name": "stdout",
          "text": [
            "1\n"
          ]
        }
      ]
    }
  ]
}