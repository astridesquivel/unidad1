{
  "nbformat": 4,
  "nbformat_minor": 0,
  "metadata": {
    "colab": {
      "provenance": [],
      "authorship_tag": "ABX9TyODXQS9zNVTjFxxp/M6zPGh",
      "include_colab_link": true
    },
    "kernelspec": {
      "name": "python3",
      "display_name": "Python 3"
    },
    "language_info": {
      "name": "python"
    }
  },
  "cells": [
    {
      "cell_type": "markdown",
      "metadata": {
        "id": "view-in-github",
        "colab_type": "text"
      },
      "source": [
        "<a href=\"https://colab.research.google.com/github/astridesquivel/unidad1/blob/main/Copia_de_Untitled2.ipynb\" target=\"_parent\"><img src=\"https://colab.research.google.com/assets/colab-badge.svg\" alt=\"Open In Colab\"/></a>"
      ]
    },
    {
      "cell_type": "code",
      "execution_count": null,
      "metadata": {
        "id": "PrJnWIGjPNd6"
      },
      "outputs": [],
      "source": []
    },
    {
      "cell_type": "markdown",
      "source": [
        "numpy indexacion de matrices.\n",
        "acceder el elemento de una matriz.\n",
        "la indexacion de matrices es lo mismo que acceder a un elemento de una matriz.\n",
        "puede acceder a un elemento de una matriz haciendo una referencia a su numero de indice.\n",
        "los indices en las matrices numpy comienza en cero,lo que se significa que el primer elemento tiene indice cero,el segundo tiene indice 1,el tercero tiene 2,etc.\n",
        "____________________________________________________________\n",
        "EJEMPLO:obtenja el primer elemento de la siguiente matriz"
      ],
      "metadata": {
        "id": "OmPR47kMPZES"
      }
    },
    {
      "cell_type": "code",
      "source": [
        "import numpy as np\n",
        "\n",
        "arreglo = np.array([1,2,3,4,5])\n",
        "\n",
        "print(arreglo[0])"
      ],
      "metadata": {
        "colab": {
          "base_uri": "https://localhost:8080/"
        },
        "id": "84mF36K2Q7Cq",
        "outputId": "0a471cc3-cefe-4798-d31f-d1fc90456481"
      },
      "execution_count": null,
      "outputs": [
        {
          "output_type": "stream",
          "name": "stdout",
          "text": [
            "1\n"
          ]
        }
      ]
    },
    {
      "cell_type": "markdown",
      "source": [
        "De la siguiente lista:6,7,8,9,10,obtenga el tercero y cuarto elemento"
      ],
      "metadata": {
        "id": "b-8f6vijRYyS"
      }
    },
    {
      "cell_type": "code",
      "source": [
        "import numpy as np\n",
        "\n",
        "arreglo = np.array([6,7,8,9,10])\n",
        "\n",
        "print(arreglo[2])\n",
        "print(arreglo[3])"
      ],
      "metadata": {
        "id": "oBoGSateRk1i"
      },
      "execution_count": null,
      "outputs": []
    },
    {
      "cell_type": "markdown",
      "source": [
        "Acceder a matrices dos d.para acceder a elemento de matrices dos d podemos utilizar numeros enteros separados por,que representa al numero de dimencion y al indice del elemento.piense en matrices dos d como una tablas con filas y columnas,donde la dimencion representa la fila y el indice representa la columna\n",
        "___________________________________________________________________\n",
        "EJEMPLO:realiza una matriz dos d con la siguientes arreglos listas,lista 1:1,2,3,4,5 lista 2:6,7,8,9,10"
      ],
      "metadata": {
        "id": "beEaaAfMR2SS"
      }
    },
    {
      "cell_type": "code",
      "source": [
        "import numpy as np\n",
        "\n",
        "arreglo = np.array([[1,2,3,4,5],[6,7,8,9,10]])\n",
        "\n",
        "print(arreglo[0,1])"
      ],
      "metadata": {
        "colab": {
          "base_uri": "https://localhost:8080/"
        },
        "id": "8TUJjcTGS166",
        "outputId": "1b72be3c-22c9-4492-87aa-ef412d9555a2"
      },
      "execution_count": null,
      "outputs": [
        {
          "output_type": "stream",
          "name": "stdout",
          "text": [
            "2\n"
          ]
        }
      ]
    },
    {
      "cell_type": "markdown",
      "source": [
        "de la matriz dos d accede al elemento de la primera fila y segunda columna"
      ],
      "metadata": {
        "id": "AGManhFqUvQa"
      }
    }
  ]
}